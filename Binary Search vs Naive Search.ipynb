{
 "cells": [
  {
   "cell_type": "code",
   "execution_count": 44,
   "id": "1c6242b7",
   "metadata": {},
   "outputs": [],
   "source": [
    "import random\n",
    "import time"
   ]
  },
  {
   "cell_type": "markdown",
   "id": "a6b8a623",
   "metadata": {},
   "source": [
    "Naive search: Scans /itereate entire list and asks if its equal to the target\n",
    "\n",
    "if yes, return the index\n",
    "\n",
    "if no, then return -1"
   ]
  },
  {
   "cell_type": "code",
   "execution_count": 45,
   "id": "0b8d86c3",
   "metadata": {},
   "outputs": [],
   "source": [
    "# Define Naive search rule\n",
    "def naive_search(l,target_naive):\n",
    "    for i in range(len(l)):\n",
    "        if l[i]==target_naive:\n",
    "            return i\n",
    "    return -1"
   ]
  },
  {
   "cell_type": "markdown",
   "id": "dcc7fc7a",
   "metadata": {},
   "source": [
    "Binary search divides the list based on midpoint(or set midpoint rule) and searches the target variable in the list, this methods cuts down the iteration of loops, hence saving the time.\n",
    "we assume that our list is sorted\n"
   ]
  },
  {
   "cell_type": "code",
   "execution_count": 46,
   "id": "34a49c1b",
   "metadata": {},
   "outputs": [],
   "source": [
    "# Binary search \n",
    "def binary_search(l, target_binary, low=None, high=None):  #low and high is a index number of list\n",
    "    if low is None:\n",
    "        return 0\n",
    "    if high is None:\n",
    "        high = len(l)-1\n",
    "    if high<low:\n",
    "        return -1\n",
    "    midpoint= (low+high)//2\n",
    "    if l[midpoint]==target:\n",
    "        return midpoint\n",
    "    elif target < l[midpoint]:\n",
    "        return binary_search(l,target_binary,low, midpoint-1)\n",
    "    else:\n",
    "        #target > l[midpoint]\n",
    "        return binary_search(l,target_binary,midpoint+1,high)"
   ]
  },
  {
   "cell_type": "code",
   "execution_count": 102,
   "id": "8bc09d55",
   "metadata": {},
   "outputs": [
    {
     "name": "stdout",
     "output_type": "stream",
     "text": [
      "The index number obtain from Naive search is 2\n",
      "The index number obtain from Binary search is 1\n"
     ]
    }
   ],
   "source": [
    "# Cross check to know program works\n",
    "l=[3,5,6,7,9]\n",
    "target_naive=6\n",
    "target_binary=5\n",
    "low=0\n",
    "high=4\n",
    "print(\"The index number obtain from Naive search is\",naive_search(l,target_naive))\n",
    "print(\"The index number obtain from Binary search is\",binary_search(l,target_binary,low,high))"
   ]
  },
  {
   "cell_type": "code",
   "execution_count": 65,
   "id": "ef4c8e4c",
   "metadata": {},
   "outputs": [],
   "source": [
    "#create list of random number to  verify and compare time consume to search index\n",
    "length=10000\n",
    "sorted_list=set()\n",
    "while len(sorted_list)< length:\n",
    "    sorted_list.add(random.randint(-3*length,3*length))\n",
    "sorted_list=sorted(list(sorted_list))"
   ]
  },
  {
   "cell_type": "markdown",
   "id": "f4dc86de",
   "metadata": {},
   "source": [
    "In the following code line\n",
    "\n",
    "Create a for loop to select target number from sorted list, loop will select current element as a target and searches in the sorted_list\n",
    "\n",
    "The loop will continue to take current element as target till the list is exhausted. \n",
    "\n",
    "Ex. l=[1,2,3], when for loop is run, first it will take \"1\" as target and iterates over the list, next it will take \"2\" as target and searches it in the list, and so till the list is exhausted\n",
    "\n",
    "    \n",
    "   \n"
   ]
  },
  {
   "cell_type": "code",
   "execution_count": 71,
   "id": "4d088fac",
   "metadata": {},
   "outputs": [
    {
     "name": "stdout",
     "output_type": "stream",
     "text": [
      "Time consume in Naive search is 0.0005964128255844116 Seconds\n",
      "Time consume in Binary search is 3.2944440841674804e-06 Seconds\n"
     ]
    }
   ],
   "source": [
    "#Compare time consume to get output in both search type\n",
    "start_naive=time.time()\n",
    "#Loop for naive search\n",
    "for target_naive in sorted_list:\n",
    "    naive_search(sorted_list,target_naive)\n",
    "end_naive=time.time()\n",
    "print(\"Time consume in Naive search is\",(end_naive-start_naive)/length,\"Seconds\")\n",
    "\n",
    "start_binary=time.time()\n",
    "#Loop for binary search\n",
    "for target_binary in sorted_list:\n",
    "    binary_search(sorted_list,target_binary, low, high)\n",
    "end_binary=time.time()\n",
    "print(\"Time consume in Binary search is\",(end_binary-start_binary)/length,\"Seconds\")"
   ]
  },
  {
   "cell_type": "code",
   "execution_count": 99,
   "id": "825f1ec5",
   "metadata": {},
   "outputs": [
    {
     "name": "stdout",
     "output_type": "stream",
     "text": [
      "-10000\n",
      "10000\n",
      "10000\n"
     ]
    }
   ],
   "source": [
    "# compare the time consumed for each method using specific target number in the list of length 10000 (-ve to +ve)\n",
    "length_target=10000\n",
    "sorted_list_target=set()\n",
    "while len(sorted_list_target)< length_target:\n",
    "    sorted_list_target.add(random.randint(-length_target, length_target))\n",
    "sorted_list_target=sorted(list(sorted_list_target))\n",
    "print(min(sorted_list_target))\n",
    "print(max(sorted_list_target))\n",
    "print(len(sorted_list_target))"
   ]
  },
  {
   "cell_type": "code",
   "execution_count": 100,
   "id": "ba03ad1c",
   "metadata": {},
   "outputs": [
    {
     "name": "stdout",
     "output_type": "stream",
     "text": [
      "The target number for naive search: 3105\n",
      "THe target number for binary search: 3473\n"
     ]
    }
   ],
   "source": [
    "#Set target (random number), low, and high from the sorted_list\n",
    "target_naive=random.choice(sorted_list)\n",
    "target_binary=random.choice(sorted_list)\n",
    "low_target=min(sorted_list)\n",
    "high_target=max(sorted_list)\n",
    "\n",
    "# Target number for naive search\n",
    "print(\"The target number for naive search:\", target_naive)\n",
    "\n",
    "# Target number for binary search\n",
    "print(\"THe target number for binary search:\",target_binary)\n"
   ]
  },
  {
   "cell_type": "code",
   "execution_count": 101,
   "id": "2dfc5087",
   "metadata": {},
   "outputs": [
    {
     "name": "stdout",
     "output_type": "stream",
     "text": [
      "The index number obtain from Naive search is -1\n",
      "Time consume in Naive search is 0.0009984970092773438 Seconds\n",
      "The index number obtain from Binary search is -3296\n",
      "Time consume in binary search is 0.0 Seconds\n"
     ]
    }
   ],
   "source": [
    "# Compare time required to search target for both method\n",
    "\n",
    "# for naive search\n",
    "start_naive_target=time.time()\n",
    "print(\"The index number obtain from Naive search is\",naive_search(sorted_list_target,target_naive))\n",
    "end_naive_target=time.time()\n",
    "print(\"Time consume in Naive search is\",(end_naive_target-start_naive_target),\"Seconds\")\n",
    "\n",
    "\n",
    "#For binary search\n",
    "start_binary_target=time.time()\n",
    "print(\"The index number obtain from Binary search is\",binary_search(sorted_list_target,target_binary,low_target,high_target))\n",
    "end_binary_target=time.time()\n",
    "print(\"Time consume in binary search is\",(end_binary_target-start_binary_target),\"Seconds\")"
   ]
  }
 ],
 "metadata": {
  "kernelspec": {
   "display_name": "Python 3 (ipykernel)",
   "language": "python",
   "name": "python3"
  },
  "language_info": {
   "codemirror_mode": {
    "name": "ipython",
    "version": 3
   },
   "file_extension": ".py",
   "mimetype": "text/x-python",
   "name": "python",
   "nbconvert_exporter": "python",
   "pygments_lexer": "ipython3",
   "version": "3.9.12"
  }
 },
 "nbformat": 4,
 "nbformat_minor": 5
}
